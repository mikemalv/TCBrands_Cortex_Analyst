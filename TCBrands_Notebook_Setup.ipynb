{
 "metadata": {
  "kernelspec": {
   "display_name": "Streamlit Notebook",
   "name": "streamlit"
  }
 },
 "nbformat_minor": 5,
 "nbformat": 4,
 "cells": [
  {
   "cell_type": "code",
   "id": "3775908f-ca36-4846-8f38-5adca39217f2",
   "metadata": {
    "language": "python",
    "name": "CONTEXT_SETUP",
    "collapsed": false,
    "resultHeight": 0
   },
   "source": "# Import python packages\nimport streamlit as st\nimport pandas as pd\nimport random\nfrom datetime import date, timedelta\nfrom snowflake.snowpark.functions import col, lit\n\n# We can also use Snowpark for our analyses!\nfrom snowflake.snowpark.context import get_active_session\nsession = get_active_session()\n",
   "execution_count": null,
   "outputs": []
  },
  {
   "cell_type": "code",
   "id": "c695373e-ac74-4b62-a1f1-08206cbd5c81",
   "metadata": {
    "language": "python",
    "name": "SAMPLE_DATA_LISTS",
    "collapsed": false,
    "resultHeight": 0
   },
   "source": "brands          = [\"Callaway\", \"Odyssey\", \"Topgolf\", \"TravisMathew\", \"OGIO\", \"Jack Wolfskin\"]\nregions         = [\"NA\", \"EMEA\", \"APAC\", \"LATAM\"]\nplan_versions   = [\"001\", \"002\", \"003\"]\nproduct_names   = [\"Big Bertha Driver\", \"MAVRIK Iron\", \"Chrome Soft Golf Ball\", \"Odyssey White Hot Putter\"]",
   "execution_count": null,
   "outputs": []
  },
  {
   "cell_type": "code",
   "id": "b5c979a9-9535-4956-ac17-af04dbf2fade",
   "metadata": {
    "language": "python",
    "name": "FUNCTION_GENERATE_DATA",
    "collapsed": false,
    "resultHeight": 0
   },
   "outputs": [],
   "source": "def generate_data(num_rows):\n    data = []\n    start_date = date(2024, 1, 1)\n    for _ in range(num_rows):\n        brand = random.choice(brands)\n        region = random.choice(regions)\n        plan_version = random.choice(plan_versions)\n        product_name = random.choice(product_names)\n        actual_net_sales = round(random.uniform(1000, 5000), 2)\n        planned_net_sales = round(actual_net_sales * random.uniform(0.9, 1.1), 2)\n        actual_standard_margin = round(actual_net_sales * random.uniform(0.2, 0.4), 2)\n        actual_cogs_standard = round(actual_net_sales - actual_standard_margin, 2)\n        actual_cogs = actual_cogs_standard\n        actual_ga = round(actual_net_sales * random.uniform(0.05, 0.1), 2)\n        actual_operating_income = actual_standard_margin - actual_ga\n        actual_operating_income_excl_corp = actual_operating_income\n        planned_standard_margin = round(planned_net_sales * random.uniform(0.2, 0.4), 2)\n        planned_cogs_standard = round(planned_net_sales - planned_standard_margin, 2)\n        planned_cogs = planned_cogs_standard\n        planned_ga = round(planned_net_sales * random.uniform(0.05, 0.1), 2)\n        planned_operating_income = planned_standard_margin - planned_ga\n        planned_operating_income_excl_corp = planned_operating_income\n        period_year = f\"{start_date.year}{start_date.strftime('%b').upper()}\"\n        period_starting_dt = start_date\n        current_mth = 'Y' if start_date == date.today().replace(day=1) else 'N'\n\n        row = {\n            \"EDAP_BRAND_NAME\": brand,\n            \"BRAND\": product_name,\n            \"REGION\": region,\n            \"DERIVED_REGION\": region,\n            \"REGION_GROUP\": region,\n            \"LATEST_PLAN_VERSION\": plan_version,\n            \"ACTUAL_NET_SALES_USD\": actual_net_sales,\n            \"PLANNED_NET_SALES_USD\": planned_net_sales,\n            \"ACTUAL_STANDARD_MARGIN_USD\": actual_standard_margin,\n            \"ACTUAL_COGS_STANDARD_USD\": actual_cogs_standard,\n            \"ACTUAL_COGS_USD\": actual_cogs,\n            \"ACTUAL_GA_USD\": actual_ga,\n            \"ACTUAL_OPERATING_INCOME_USD\": actual_operating_income,\n            \"ACTUAL_OPERATING_INCOME_EXCL_CORP_USD\": actual_operating_income_excl_corp,\n            \"PLANNED_STANDARD_MARGIN_USD\": planned_standard_margin,\n            \"PLANNED_COGS_STANDARD_USD\": planned_cogs_standard,\n            \"PLANNED_COGS_USD\": planned_cogs,\n            \"PLANNED_GA_USD\": planned_ga,\n            \"PLANNED_OPERATING_INCOME_USD\": planned_operating_income,\n            \"PLANNED_OPERATING_INCOME_EXCL_CORP_USD\": planned_operating_income_excl_corp,\n            \"PERIOD_YEAR\": period_year,\n            \"PERIOD_STARTING_DT\": period_starting_dt,\n            \"CURRENT_MTH\": current_mth\n        }\n        data.append(row)\n        start_date += timedelta(days=30)  # Increment by approximately one month\n    return data\n",
   "execution_count": null
  },
  {
   "cell_type": "code",
   "id": "6d57b8b2-a7da-4b6b-8480-994ef24e1ebf",
   "metadata": {
    "language": "python",
    "name": "GENERATE_WRITE_TO_SNOWFLAKE",
    "collapsed": false,
    "resultHeight": 0
   },
   "outputs": [],
   "source": "num_rows = 10  # Specify the number of rows you want to generate\ndata = generate_data(num_rows)\n\ndf = session.create_dataframe(data)\n\n# Define the target table name\ntarget_table = \"TB_COPA_AGGR_SYNTHETIC\"\n\n# Write the DataFrame to the table\ndf.write.mode(\"overwrite\").save_as_table(target_table)",
   "execution_count": null
  },
  {
   "cell_type": "code",
   "id": "919b05c6-6e3a-418b-a885-aefc7b4e54a1",
   "metadata": {
    "language": "python",
    "name": "QUERY_DATA_PYTHON",
    "collapsed": false,
    "resultHeight": 335
   },
   "outputs": [],
   "source": "df = session.table(\"TB_COPA_AGGR_SYNTHETIC\").show()",
   "execution_count": null
  },
  {
   "cell_type": "code",
   "id": "8c83d549-6c03-4f54-9ec2-3f600a42c8bb",
   "metadata": {
    "language": "sql",
    "name": "QUERY_DATA_SQL",
    "resultHeight": 438,
    "collapsed": false
   },
   "outputs": [],
   "source": "SELECT * FROM TB_COPA_AGGR_SYNTHETIC;",
   "execution_count": null
  },
  {
   "cell_type": "markdown",
   "id": "6a51455e-2953-46ed-b0a8-786e13e7a96f",
   "metadata": {
    "name": "MD_1",
    "collapsed": false,
    "resultHeight": 74
   },
   "source": "# SETUP DATABASE AND TABLE"
  },
  {
   "cell_type": "code",
   "id": "176d7b4e-f1c3-443e-aa35-8387e381a196",
   "metadata": {
    "language": "sql",
    "name": "CREATE_DB_TABLE",
    "resultHeight": 111
   },
   "outputs": [],
   "source": "CREATE DATABASE IF NOT EXISTS TCBrands;\nUSE DATABASE TCBrands;\nUSE SCHEMA PUBLIC;\n\nCREATE TABLE IF NOT EXISTS TB_COPA_AGGR_SYNTHETIC (\n    EDAP_BRAND_NAME VARCHAR(10),\n    BRAND VARCHAR(12),\n    REGION VARCHAR(5),\n    DERIVED_REGION VARCHAR(10),\n    REGION_GROUP VARCHAR(12),\n    LATEST_PLAN_VERSION VARCHAR(3),\n    ACTUAL_NET_SALES_USD NUMBER(38,2),\n    PLANNED_NET_SALES_USD NUMBER(38,2),\n    ACTUAL_STANDARD_MARGIN_USD NUMBER(38,2),\n    ACTUAL_COGS_STANDARD_USD NUMBER(31,2),\n    ACTUAL_COGS_USD NUMBER(38,2),\n    ACTUAL_GA_USD NUMBER(31,2),\n    ACTUAL_OPERATING_INCOME_USD NUMBER(38,2),\n    ACTUAL_OPERATING_INCOME_EXCL_CORP_USD NUMBER(38,2),\n    PLANNED_STANDARD_MARGIN_USD NUMBER(38,2),\n    PLANNED_COGS_STANDARD_USD NUMBER(31,2),\n    PLANNED_COGS_USD NUMBER(38,2),\n    PLANNED_GA_USD NUMBER(31,2),\n    PLANNED_OPERATING_INCOME_USD NUMBER(38,2),\n    PLANNED_OPERATING_INCOME_EXCL_CORP_USD NUMBER(38,2),\n    PERIOD_YEAR VARCHAR(7),\n    PERIOD_STARTING_DT DATE,\n    CURRENT_MTH VARCHAR(1)\n);\n\nUSE DATABASE TCBrands;\nUSE SCHEMA PUBLIC;\nCREATE OR REPLACE STAGE TCBRANDS_STAGE;",
   "execution_count": null
  }
 ]
}